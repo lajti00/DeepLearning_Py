{
 "cells": [
  {
   "cell_type": "code",
   "execution_count": 1,
   "metadata": {},
   "outputs": [],
   "source": [
    "from PIL import Image\n",
    "import numpy as np\n",
    "from matplotlib import pyplot as plt\n",
    "import cv2\n",
    "from  tkinter import *\n",
    "from tkinter import filedialog\n",
    "import mymodules_ as mm"
   ]
  },
  {
   "cell_type": "markdown",
   "metadata": {},
   "source": [
    "Open the image"
   ]
  },
  {
   "cell_type": "code",
   "execution_count": 2,
   "metadata": {},
   "outputs": [],
   "source": [
    "[filePath, DirPath] = mm.openFileDia(\"D:/Python/Data/\", \"*.tif\")\n",
    "# DirPath = filePath[0:-1*len(filePath.split('/')[-1])]\n"
   ]
  },
  {
   "cell_type": "code",
   "execution_count": 3,
   "metadata": {},
   "outputs": [],
   "source": [
    "[Ref_filePath, Ref_dirPath] = mm.openFileDia(\"D:/Python/Data/\", \"*.png\")"
   ]
  },
  {
   "cell_type": "code",
   "execution_count": 4,
   "metadata": {},
   "outputs": [
    {
     "name": "stdout",
     "output_type": "stream",
     "text": [
      "images are loaded: i=150\n"
     ]
    }
   ],
   "source": [
    "numberOfIm = 150\n",
    "imArray=np.zeros((512,640,numberOfIm),dtype=np.int16)\n",
    "imVectorArray = np.zeros((512*640,numberOfIm),dtype=np.double)\n",
    "for i in range(1, numberOfIm+1):\n",
    "    filename = filename = DirPath+'image'+(\"%0.5o\"% (i))+'.tiff.tif'\n",
    "    #print(filename)\n",
    "    imArray[:,:,i-1] = cv2.imread(filename,-1)\n",
    "    imVectorArray[:,i-1]  = cv2.imread(filename,-1).reshape(512*640)\n",
    "    cv2.imshow('image',imArray[:,:,i-1])\n",
    "    cv2.waitKey(10)\n",
    "#     cv2.destroyAllWindows()\n",
    "#     print(i)\n",
    "    if i==numberOfIm:\n",
    "        print('images are loaded: i='+str(i))\n",
    "        cv2.destroyAllWindows()\n",
    "    \n",
    "   \n"
   ]
  },
  {
   "cell_type": "code",
   "execution_count": 5,
   "metadata": {},
   "outputs": [
    {
     "name": "stdout",
     "output_type": "stream",
     "text": [
      "Menan: 16395.8268205\n",
      "SD_mean: 137.06118441\n"
     ]
    }
   ],
   "source": [
    "px_mean=imVectorArray.mean(axis=1)\n",
    "px_sd=imVectorArray.std(axis=1)\n",
    "print('Menan: '+str(px_mean.mean()))\n",
    "print('SD_mean: '+str(px_sd.mean()))"
   ]
  },
  {
   "cell_type": "code",
   "execution_count": 6,
   "metadata": {},
   "outputs": [
    {
     "data": {
      "image/png": "[encoded data removed]",
      "text/plain": [
       "<matplotlib.figure.Figure at 0x209c0aacbe0>"
      ]
     },
     "metadata": {},
     "output_type": "display_data"
    }
   ],
   "source": [
    "plt.plot(px_mean)\n",
    "plt.ylabel('SD')\n",
    "plt.show()"
   ]
  },
  {
   "cell_type": "markdown",
   "metadata": {},
   "source": [
    "Find the pixels with too high and too low sd"
   ]
  },
  {
   "cell_type": "code",
   "execution_count": 13,
   "metadata": {},
   "outputs": [],
   "source": [
    "MenanSDs = px_sd.mean()\n",
    "SDofSDs = px_sd.std()\n",
    "MenanOfMeans = px_mean.mean()\n",
    "SDofMeans = px_mean.std()\n",
    "sigma=3\n",
    "sigma2 = 3\n",
    "absMinRange = np.array([0,MenanOfMeans-sigma2*SDofMeans])\n",
    "absMaxRange = np.array([MenanOfMeans+sigma2*SDofMeans,px_mean.max()])\n",
    "WrongGroup1 = np.where(px_sd<=MenanSDs-sigma*SDofSDs)\n",
    "WrongGroup2 = np.where(px_sd>=MenanSDs+sigma*SDofSDs)\n",
    "WrongGroup3 = np.where(px_mean<=absMinRange[1])\n",
    "WrongGroup4 = np.where(px_mean>=absMaxRange[0])\n",
    "\n",
    "BadPixMap=np.zeros(512*640,np.uint8)\n",
    "BadPixMap[WrongGroup1]=255\n",
    "BadPixMap[WrongGroup2]=255\n",
    "BadPixMap[WrongGroup3]=255\n",
    "BadPixMap[WrongGroup4]=255\n",
    "BadPixMap = BadPixMap.reshape(512,640)"
   ]
  },
  {
   "cell_type": "code",
   "execution_count": 14,
   "metadata": {},
   "outputs": [
    {
     "data": {
      "text/plain": [
       "array([ 19538.63960467,  65396.73333333])"
      ]
     },
     "execution_count": 14,
     "metadata": {},
     "output_type": "execute_result"
    }
   ],
   "source": [
    "absMaxRange"
   ]
  },
  {
   "cell_type": "code",
   "execution_count": null,
   "metadata": {},
   "outputs": [],
   "source": [
    "mm.showImageCV(BadPixMap)\n"
   ]
  },
  {
   "cell_type": "code",
   "execution_count": 11,
   "metadata": {},
   "outputs": [
    {
     "data": {
      "image/png": "[encoded data removed]",
      "text/plain": [
       "<matplotlib.figure.Figure at 0x1e666476a90>"
      ]
     },
     "metadata": {},
     "output_type": "display_data"
    }
   ],
   "source": [
    "# plt.plot(BadPixMap[:], '.')\n",
    "# plt.ylabel('badPix')\n",
    "# plt.show()"
   ]
  },
  {
   "cell_type": "code",
   "execution_count": 12,
   "metadata": {
    "collapsed": true
   },
   "outputs": [],
   "source": [
    "imR = cv2.imread(Ref_filePath,-1)\n",
    "rot_imR = np.rot90(imR,3)"
   ]
  },
  {
   "cell_type": "code",
   "execution_count": 14,
   "metadata": {},
   "outputs": [],
   "source": [
    "diffIM = rot_imR-BadPixMap\n",
    "z=True\n",
    "while z:\n",
    "    cv2.imshow('image',BadPixMap)\n",
    "    k = cv2.waitKey(50)\n",
    "    cv2.imshow('image',rot_imR)\n",
    "    k = cv2.waitKey(100)\n",
    "    if k==27:\n",
    "        z=False\n",
    "        cv2.destroyAllWindows()\n",
    "\n",
    "# mm.showImageCV(diffIM)"
   ]
  },
  {
   "cell_type": "code",
   "execution_count": 23,
   "metadata": {},
   "outputs": [
    {
     "data": {
      "text/plain": [
       "100"
      ]
     },
     "execution_count": 23,
     "metadata": {},
     "output_type": "execute_result"
    }
   ],
   "source": [
    "np.array([1,100])[1]"
   ]
  },
  {
   "cell_type": "code",
   "execution_count": 15,
   "metadata": {
    "collapsed": true
   },
   "outputs": [],
   "source": []
  },
  {
   "cell_type": "code",
   "execution_count": null,
   "metadata": {},
   "outputs": [],
   "source": []
  },
  {
   "cell_type": "code",
   "execution_count": null,
   "metadata": {
    "collapsed": true
   },
   "outputs": [],
   "source": []
  }
 ],
 "metadata": {
  "kernelspec": {
   "display_name": "Python 3",
   "language": "python",
   "name": "python3"
  },
  "language_info": {
   "codemirror_mode": {
    "name": "ipython",
    "version": 3
   },
   "file_extension": ".py",
   "mimetype": "text/x-python",
   "name": "python",
   "nbconvert_exporter": "python",
   "pygments_lexer": "ipython3",
   "version": "3.6.1"
  }
 },
 "nbformat": 4,
 "nbformat_minor": 2
}
