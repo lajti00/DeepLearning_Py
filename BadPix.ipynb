{
 "cells": [
  {
   "cell_type": "code",
   "execution_count": 5,
   "metadata": {},
   "outputs": [],
   "source": [
    "from PIL import Image\n",
    "import numpy as np\n",
    "from matplotlib import pyplot as plt\n",
    "import cv2"
   ]
  },
  {
   "cell_type": "markdown",
   "metadata": {},
   "source": [
    "Open the image"
   ]
  },
  {
   "cell_type": "code",
   "execution_count": 6,
   "metadata": {},
   "outputs": [
    {
     "name": "stdout",
     "output_type": "stream",
     "text": [
      "[[19627 17839 17059 ..., 19463 15107 13323]\n",
      " [17447 14491 14583 ..., 15711 15063 18583]\n",
      " [17139 14667 15559 ..., 14663 15307 18151]\n",
      " ..., \n",
      " [17043 15071 15275 ..., 15767 16035 17959]\n",
      " [17647 14579 14343 ..., 15543 15207 17791]\n",
      " [19287 17535 17155 ..., 18035 18059 20899]]\n"
     ]
    }
   ],
   "source": [
    "im = cv2.imread('d:/Python/Data/rawPL/image00001.tiff.tif',-1)\n",
    "#imarray = np.array(im)\n",
    "print(im)"
   ]
  },
  {
   "cell_type": "code",
   "execution_count": 7,
   "metadata": {},
   "outputs": [
    {
     "data": {
      "text/plain": [
       "15263.370690917969"
      ]
     },
     "execution_count": 7,
     "metadata": {},
     "output_type": "execute_result"
    }
   ],
   "source": [
    "im.mean()"
   ]
  },
  {
   "cell_type": "code",
   "execution_count": 16,
   "metadata": {},
   "outputs": [],
   "source": [
    "def showImageCV(im):\n",
    "    cv2.imshow('image',im)\n",
    "    k = cv2.waitKey(0)\n",
    "    if k == 27:         # wait for ESC key to exit\n",
    "        cv2.destroyAllWindows()\n",
    "    elif k == ord('s'): # wait for 's' key to save and exit\n",
    "        cv2.imwrite('messigray.png',im)\n",
    "        cv2.destroyAllWindows()"
   ]
  },
  {
   "cell_type": "code",
   "execution_count": 9,
   "metadata": {},
   "outputs": [],
   "source": [
    "#showImageCV(im)"
   ]
  },
  {
   "cell_type": "code",
   "execution_count": 10,
   "metadata": {},
   "outputs": [],
   "source": [
    "tt=np.zeros((512,640,10))\n",
    "tt[:,:,1]=im"
   ]
  },
  {
   "cell_type": "code",
   "execution_count": 13,
   "metadata": {},
   "outputs": [],
   "source": [
    "showImageCV(im)"
   ]
  },
  {
   "cell_type": "code",
   "execution_count": 38,
   "metadata": {},
   "outputs": [
    {
     "data": {
      "text/plain": [
       "array([[ 19627.,  17839.,  17059., ...,  19463.,  15107.,  13323.],\n",
       "       [ 17447.,  14491.,  14583., ...,  15711.,  15063.,  18583.],\n",
       "       [ 17139.,  14667.,  15559., ...,  14663.,  15307.,  18151.],\n",
       "       ..., \n",
       "       [ 17043.,  15071.,  15275., ...,  15767.,  16035.,  17959.],\n",
       "       [ 17647.,  14579.,  14343., ...,  15543.,  15207.,  17791.],\n",
       "       [ 19287.,  17535.,  17155., ...,  18035.,  18059.,  20899.]])"
      ]
     },
     "execution_count": 38,
     "metadata": {},
     "output_type": "execute_result"
    }
   ],
   "source": [
    "tt[:,:,0]"
   ]
  },
  {
   "cell_type": "code",
   "execution_count": null,
   "metadata": {
    "collapsed": true
   },
   "outputs": [],
   "source": []
  }
 ],
 "metadata": {
  "kernelspec": {
   "display_name": "Python 3",
   "language": "python",
   "name": "python3"
  },
  "language_info": {
   "codemirror_mode": {
    "name": "ipython",
    "version": 3
   },
   "file_extension": ".py",
   "mimetype": "text/x-python",
   "name": "python",
   "nbconvert_exporter": "python",
   "pygments_lexer": "ipython3",
   "version": "3.6.1"
  }
 },
 "nbformat": 4,
 "nbformat_minor": 2
}
